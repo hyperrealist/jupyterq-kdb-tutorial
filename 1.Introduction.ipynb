{
 "cells": [
  {
   "cell_type": "markdown",
   "metadata": {},
   "source": [
    "*Note: Intended to be used as an interactive notebook.*"
   ]
  },
  {
   "cell_type": "markdown",
   "metadata": {},
   "source": [
    "# The First Barrier\n",
    "\n",
    "If you are familiar with common general purpose programming languages like Python and C++, but are new to functional programming languages (myself included), let me prepare you by saying functional programming languages are _different_. To be more precise, they are very, _very_ different from anything you have seen. Embark on this journey with an open mind...\n",
    "\n",
    "**How different?**.. you ask\n",
    "\n",
    "Ok, most of the common programming languages we are typically familiar with utilize what is called the imperative programing **paradigm**. It dictates that the programmer must spoonfeed the machine exactly how to change its state. But functional programming languages rely on a different style dubbed the declarative programming **paradigm**. So, newcommers to functional programming should now prepare for a paradigm shift. Veterans may move on to the next section.\n",
    "\n",
    "### Functional Programming Primer\n",
    "\n",
    "Imagine you wanted to find the sum of the squares in a list of numbers. In a imperative programming language, the pseudocode might look like:\n",
    "\n",
    "```\n",
    "function sqsum(list)\n",
    "{\n",
    "    let tot = 0\n",
    "    for (let i=0; i < a.length; i++)\n",
    "    {\n",
    "        tot = tot + a[i] * a[i]\n",
    "    }\n",
    "    return tot\n",
    "}\n",
    "\n",
    "sqsum([10, 2, 3, 5, 5])\n",
    "\n",
    "```\n",
    "\n",
    "In a functional programming language you might *declare the result* using something like:\n",
    "\n",
    "```\n",
    "[10, 2, 3, 5, 5].map( x -> x*x ).reduce( x,y -> x+y )\n",
    "```\n",
    "\n",
    "But wait, Q is even *Quirkier* than that! In Q you can achieve the same result much succinctly. Don't trust me? Hit shift + return on the next cell!"
   ]
  },
  {
   "cell_type": "code",
   "execution_count": null,
   "metadata": {},
   "outputs": [],
   "source": [
    "(+/){x*x}10 2 3 5 5"
   ]
  },
  {
   "cell_type": "markdown",
   "metadata": {},
   "source": [
    "### Wait... what?"
   ]
  },
  {
   "cell_type": "markdown",
   "metadata": {},
   "source": [
    "Granted, Q is quirky. To unserstand what is happening here we must first overcome the next big barrier."
   ]
  },
  {
   "cell_type": "markdown",
   "metadata": {},
   "source": [
    "# The Second Barrier"
   ]
  },
  {
   "cell_type": "markdown",
   "metadata": {},
   "source": [
    "Are you good at mental math? Can you evaluate 2 * 3 + 1?\n",
    "\n",
    "**7**, you say.\n",
    "\n",
    "Ok, now can Q evaluate 2 * 3 + 1? Sure... (shift + return)"
   ]
  },
  {
   "cell_type": "code",
   "execution_count": null,
   "metadata": {},
   "outputs": [],
   "source": [
    "2 * 3 + 1"
   ]
  },
  {
   "cell_type": "markdown",
   "metadata": {},
   "source": [
    "Explanation: try reading `2 * 3 + 1` right-to-left. Here's some parantheses to help you get situated: `2 * (3 + 1)`."
   ]
  },
  {
   "cell_type": "markdown",
   "metadata": {},
   "source": [
    "Now can you guess what `(+/)` does? And what `{x*x}` does? Remember we were trying to calculate the **sum of squares**.\n",
    "(hint: read from right to left)."
   ]
  },
  {
   "cell_type": "markdown",
   "metadata": {},
   "source": [
    "### I see.."
   ]
  },
  {
   "cell_type": "markdown",
   "metadata": {},
   "source": [
    "In Q, operations are carried out from right-to-left!"
   ]
  },
  {
   "cell_type": "markdown",
   "metadata": {},
   "source": [
    "To be continued..."
   ]
  },
  {
   "cell_type": "code",
   "execution_count": null,
   "metadata": {},
   "outputs": [],
   "source": []
  }
 ],
 "metadata": {
  "kernelspec": {
   "display_name": "Q (kdb+)",
   "language": "q",
   "name": "qpk"
  },
  "language_info": {
   "file_extension": ".q",
   "mimetype": "text/x-q",
   "name": "q",
   "version": "3.6.0"
  }
 },
 "nbformat": 4,
 "nbformat_minor": 4
}
